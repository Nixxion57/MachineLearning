{
 "cells": [
  {
   "cell_type": "code",
   "execution_count": 24,
   "id": "initial_id",
   "metadata": {
    "collapsed": true,
    "ExecuteTime": {
     "end_time": "2023-12-20T15:11:19.194817200Z",
     "start_time": "2023-12-20T15:11:19.060966900Z"
    }
   },
   "outputs": [
    {
     "name": "stdout",
     "output_type": "stream",
     "text": [
      "R-squared LNN: 0.53\n"
     ]
    }
   ],
   "source": [
    "import joblib\n",
    "import pandas as pd\n",
    "from sklearn.model_selection import train_test_split, cross_val_score\n",
    "from sklearn.metrics import accuracy_score, r2_score\n",
    "from sklearn.model_selection import GridSearchCV\n",
    "\n",
    "\n",
    "cleaned_dataset_copy = pd.read_csv('cleaned_dataset_copy.csv')\n",
    "\n",
    "model_lnn = joblib.load('model_lnn.pkl')\n",
    "\n",
    "\n",
    "X = cleaned_dataset_copy[['has_nfc', 'processor_speed', 'os_android', 'processor_brand_bionic']]\n",
    "y = cleaned_dataset_copy['price']\n",
    "X_train, X_test, y_train, y_test = train_test_split(X, y, test_size=0.2)\n",
    "\n",
    "predictions_lnn = model_lnn.predict(X_test)\n",
    "\n",
    "r_squared = r2_score(y_test, predictions_lnn)\n",
    "\n",
    "print(f'R-squared LNN: {r_squared:.2f}')\n"
   ]
  },
  {
   "cell_type": "code",
   "execution_count": 25,
   "outputs": [
    {
     "name": "stdout",
     "output_type": "stream",
     "text": [
      "R-squared KNR: 0.58\n"
     ]
    }
   ],
   "source": [
    "model_knr = joblib.load('model_knn.pkl')\n",
    "\n",
    "predictions_knr = model_knr.predict(X_test)\n",
    "\n",
    "r_squared = r2_score(y_test, predictions_knr)\n",
    "\n",
    "print(f'R-squared KNR: {r_squared:.2f}')"
   ],
   "metadata": {
    "collapsed": false,
    "ExecuteTime": {
     "end_time": "2023-12-20T15:11:19.224588100Z",
     "start_time": "2023-12-20T15:11:19.090312500Z"
    }
   },
   "id": "65e58f9b977ddd66"
  },
  {
   "cell_type": "markdown",
   "source": [
    "# Hyperparameter Tuning\n",
    "# In order to make my model more accurate I can make use of hyperparameters. Hyperparameters are parameters that are not directly learnt within estimators. In scikit-learn they are passed as arguments to the constructor of the estimator classes. I've decided use GridSearchCV to find the best hyperparameters for my model. The goal is to find the best combination of hyperparameters that will give me the best accuracy score."
   ],
   "metadata": {
    "collapsed": false
   },
   "id": "8f06f880417927a"
  },
  {
   "cell_type": "code",
   "execution_count": 26,
   "outputs": [
    {
     "name": "stdout",
     "output_type": "stream",
     "text": [
      "{'copy_X': True, 'fit_intercept': True, 'n_jobs': None, 'positive': False}\n"
     ]
    }
   ],
   "source": [
    "print(model_lnn.get_params())"
   ],
   "metadata": {
    "collapsed": false,
    "ExecuteTime": {
     "end_time": "2023-12-20T15:11:19.232788700Z",
     "start_time": "2023-12-20T15:11:19.100475Z"
    }
   },
   "id": "cf2b17eb47a452b0"
  },
  {
   "cell_type": "code",
   "execution_count": 27,
   "outputs": [
    {
     "name": "stdout",
     "output_type": "stream",
     "text": [
      "{'algorithm': 'auto', 'leaf_size': 30, 'metric': 'minkowski', 'metric_params': None, 'n_jobs': None, 'n_neighbors': 5, 'p': 2, 'weights': 'uniform'}\n"
     ]
    }
   ],
   "source": [
    "print(model_knr.get_params())"
   ],
   "metadata": {
    "collapsed": false,
    "ExecuteTime": {
     "end_time": "2023-12-20T15:11:19.243989500Z",
     "start_time": "2023-12-20T15:11:19.121130100Z"
    }
   },
   "id": "de05d89014a79a55"
  },
  {
   "cell_type": "code",
   "execution_count": 28,
   "outputs": [
    {
     "name": "stdout",
     "output_type": "stream",
     "text": [
      "{'copy_X': True, 'fit_intercept': False, 'n_jobs': None, 'positive': False}\n"
     ]
    }
   ],
   "source": [
    "hyperparameters = {\n",
    "    'copy_X': [True, False],\n",
    "    'fit_intercept': [True, False],\n",
    "    'n_jobs': [None, 1, 2, 3, 4, 5],\n",
    "    'positive': [True, False]\n",
    "}\n",
    "\n",
    "gridsearch = GridSearchCV(model_lnn, hyperparameters, cv=5)\n",
    "\n",
    "gridsearch.fit(X_train, y_train)\n",
    "\n",
    "print(gridsearch.best_params_)"
   ],
   "metadata": {
    "collapsed": false,
    "ExecuteTime": {
     "end_time": "2023-12-20T15:11:20.131259800Z",
     "start_time": "2023-12-20T15:11:19.135658300Z"
    }
   },
   "id": "8fd3ecde41d5f527"
  },
  {
   "cell_type": "code",
   "execution_count": 29,
   "outputs": [
    {
     "name": "stdout",
     "output_type": "stream",
     "text": [
      "{'algorithm': 'auto', 'leaf_size': 10, 'n_jobs': None, 'p': 1}\n"
     ]
    }
   ],
   "source": [
    "hyperparameters = {\n",
    "    'algorithm': ['auto', 'ball_tree', 'kd_tree', 'brute'],\n",
    "    'leaf_size': [10, 20, 30, 40, 50],\n",
    "    'n_jobs': [None, 1, 2, 3, 4, 5],\n",
    "    'p': [1, 2]\n",
    "}\n",
    "\n",
    "gridsearchKnr = GridSearchCV(model_knr, hyperparameters, cv=5)\n",
    "\n",
    "gridsearchKnr.fit(X_train, y_train)\n",
    "\n",
    "print(gridsearchKnr.best_params_)"
   ],
   "metadata": {
    "collapsed": false,
    "ExecuteTime": {
     "end_time": "2023-12-20T15:13:17.059238800Z",
     "start_time": "2023-12-20T15:11:20.130246900Z"
    }
   },
   "id": "f5b28b15d938eca7"
  },
  {
   "cell_type": "markdown",
   "source": [
    "# After running GridSearchCV on my Linear Regression model I was able to find the best hyperparameters to use. I then used those hyperparameters to create a new model and then tested it on my test data. Alas, after tuning the parameters instead of improving the score decreased."
   ],
   "metadata": {
    "collapsed": false
   },
   "id": "94f3a97e81376465"
  },
  {
   "cell_type": "code",
   "execution_count": 30,
   "outputs": [
    {
     "name": "stdout",
     "output_type": "stream",
     "text": [
      "Accuracy Score KNR: 0.5644039268357153\n"
     ]
    }
   ],
   "source": [
    "predictKnr = gridsearchKnr.predict(X_test)\n",
    "\n",
    "scoreKnr = r2_score(y_test, predictKnr)\n",
    "\n",
    "print(f'Accuracy Score KNR: {scoreKnr}')"
   ],
   "metadata": {
    "collapsed": false,
    "ExecuteTime": {
     "end_time": "2023-12-20T15:13:17.074856300Z",
     "start_time": "2023-12-20T15:13:17.059238800Z"
    }
   },
   "id": "af48b27abdf16861"
  },
  {
   "cell_type": "code",
   "execution_count": 31,
   "outputs": [
    {
     "name": "stdout",
     "output_type": "stream",
     "text": [
      "Accuracy Score Random Forest: 0.5331884219086778\n"
     ]
    }
   ],
   "source": [
    "predict = gridsearch.predict(X_test)\n",
    "# print(predict)\n",
    "\n",
    "score = r2_score(y_test, predict)\n",
    "print(f'Accuracy Score Random Forest: {score}')"
   ],
   "metadata": {
    "collapsed": false,
    "ExecuteTime": {
     "end_time": "2023-12-20T15:13:17.147667500Z",
     "start_time": "2023-12-20T15:13:17.074856300Z"
    }
   },
   "id": "46118ac64c83ca44"
  },
  {
   "cell_type": "markdown",
   "source": [
    "# After tuning the hyperparameters for my Linear Regression model I was able to improve the accuracy ever so slightly. But not with enough to make a big difference.  "
   ],
   "metadata": {
    "collapsed": false
   },
   "id": "c5b95a2d3bf764e1"
  },
  {
   "cell_type": "markdown",
   "source": [
    "# Conclusion\n",
    "# In conclusion tuning the hyperparameters for me wasn't that beneficial which doesn't mean it can't be. I think it depends on the model and the data you are using. I think it's important to try and tune the hyperparameters to see if it improves the accuracy of your model. If it doesn't then you can always go back to the original model."
   ],
   "metadata": {
    "collapsed": false
   },
   "id": "a84351bdd715ec5e"
  }
 ],
 "metadata": {
  "kernelspec": {
   "display_name": "Python 3",
   "language": "python",
   "name": "python3"
  },
  "language_info": {
   "codemirror_mode": {
    "name": "ipython",
    "version": 2
   },
   "file_extension": ".py",
   "mimetype": "text/x-python",
   "name": "python",
   "nbconvert_exporter": "python",
   "pygments_lexer": "ipython2",
   "version": "2.7.6"
  }
 },
 "nbformat": 4,
 "nbformat_minor": 5
}
